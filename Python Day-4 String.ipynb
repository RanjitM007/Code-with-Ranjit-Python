{
 "cells": [
  {
   "cell_type": "markdown",
   "id": "668151f9",
   "metadata": {},
   "source": [
    "# string"
   ]
  },
  {
   "cell_type": "code",
   "execution_count": 2,
   "id": "cec5ba8b",
   "metadata": {},
   "outputs": [
    {
     "data": {
      "text/plain": [
       "str"
      ]
     },
     "execution_count": 2,
     "metadata": {},
     "output_type": "execute_result"
    }
   ],
   "source": [
    "var1='Hello World!!'\n",
    "type(var1)"
   ]
  },
  {
   "cell_type": "code",
   "execution_count": 4,
   "id": "9b337905",
   "metadata": {},
   "outputs": [
    {
     "data": {
      "text/plain": [
       "str"
      ]
     },
     "execution_count": 4,
     "metadata": {},
     "output_type": "execute_result"
    }
   ],
   "source": [
    "var2=\"Hello World !!\"\n",
    "type(var2)"
   ]
  },
  {
   "cell_type": "code",
   "execution_count": 5,
   "id": "0ddb2497",
   "metadata": {},
   "outputs": [],
   "source": [
    "var3=\"Hello team my name is Ranjit, and i'am 25 years old\""
   ]
  },
  {
   "cell_type": "code",
   "execution_count": 6,
   "id": "bcdbd50e",
   "metadata": {},
   "outputs": [
    {
     "ename": "SyntaxError",
     "evalue": "unterminated string literal (detected at line 1) (2711154373.py, line 1)",
     "output_type": "error",
     "traceback": [
      "\u001b[1;36m  Cell \u001b[1;32mIn[6], line 1\u001b[1;36m\u001b[0m\n\u001b[1;33m    var3='Hello team my name is Ranjit, and i'am 25 years old'\u001b[0m\n\u001b[1;37m                                                             ^\u001b[0m\n\u001b[1;31mSyntaxError\u001b[0m\u001b[1;31m:\u001b[0m unterminated string literal (detected at line 1)\n"
     ]
    }
   ],
   "source": [
    "var3='Hello team my name is Ranjit, and i'am 25 years old'"
   ]
  },
  {
   "cell_type": "code",
   "execution_count": 7,
   "id": "c717814e",
   "metadata": {},
   "outputs": [
    {
     "data": {
      "text/plain": [
       "\"Hello World!!Hello team my name is Ranjit, and i'am 25 years old\""
      ]
     },
     "execution_count": 7,
     "metadata": {},
     "output_type": "execute_result"
    }
   ],
   "source": [
    "var4=var1+var3\n",
    "var4"
   ]
  },
  {
   "cell_type": "code",
   "execution_count": 8,
   "id": "fcc143ba",
   "metadata": {},
   "outputs": [],
   "source": [
    "var5=var1+' '+var3"
   ]
  },
  {
   "cell_type": "code",
   "execution_count": 9,
   "id": "eaf67f7b",
   "metadata": {},
   "outputs": [
    {
     "data": {
      "text/plain": [
       "\"Hello World!! Hello team my name is Ranjit, and i'am 25 years old\""
      ]
     },
     "execution_count": 9,
     "metadata": {},
     "output_type": "execute_result"
    }
   ],
   "source": [
    "var5"
   ]
  },
  {
   "cell_type": "code",
   "execution_count": 11,
   "id": "1b5fca78",
   "metadata": {},
   "outputs": [
    {
     "name": "stdout",
     "output_type": "stream",
     "text": [
      "Hello World !! \n",
      " Hello team my name is Ranjit, and i'am 25 years old\n"
     ]
    }
   ],
   "source": [
    "print(var2,\"\\n\",var3)\n"
   ]
  },
  {
   "cell_type": "code",
   "execution_count": 12,
   "id": "d889a4b2",
   "metadata": {},
   "outputs": [],
   "source": [
    "var_a='Python'"
   ]
  },
  {
   "cell_type": "code",
   "execution_count": 13,
   "id": "46658e22",
   "metadata": {},
   "outputs": [
    {
     "data": {
      "text/plain": [
       "6"
      ]
     },
     "execution_count": 13,
     "metadata": {},
     "output_type": "execute_result"
    }
   ],
   "source": [
    "len(var_a)"
   ]
  },
  {
   "cell_type": "code",
   "execution_count": 14,
   "id": "0564aba4",
   "metadata": {},
   "outputs": [
    {
     "data": {
      "text/plain": [
       "'P'"
      ]
     },
     "execution_count": 14,
     "metadata": {},
     "output_type": "execute_result"
    }
   ],
   "source": [
    "var_a[0]"
   ]
  },
  {
   "cell_type": "code",
   "execution_count": 15,
   "id": "fec65b71",
   "metadata": {},
   "outputs": [
    {
     "ename": "IndexError",
     "evalue": "string index out of range",
     "output_type": "error",
     "traceback": [
      "\u001b[1;31m---------------------------------------------------------------------------\u001b[0m",
      "\u001b[1;31mIndexError\u001b[0m                                Traceback (most recent call last)",
      "Cell \u001b[1;32mIn[15], line 1\u001b[0m\n\u001b[1;32m----> 1\u001b[0m var_a[\u001b[38;5;241m6\u001b[39m]\n",
      "\u001b[1;31mIndexError\u001b[0m: string index out of range"
     ]
    }
   ],
   "source": [
    "var_a[6]"
   ]
  },
  {
   "cell_type": "code",
   "execution_count": 16,
   "id": "3efa947c",
   "metadata": {},
   "outputs": [
    {
     "data": {
      "text/plain": [
       "'n'"
      ]
     },
     "execution_count": 16,
     "metadata": {},
     "output_type": "execute_result"
    }
   ],
   "source": [
    "var_a[-1]"
   ]
  },
  {
   "cell_type": "code",
   "execution_count": 17,
   "id": "e5f53adf",
   "metadata": {},
   "outputs": [
    {
     "data": {
      "text/plain": [
       "'Python'"
      ]
     },
     "execution_count": 17,
     "metadata": {},
     "output_type": "execute_result"
    }
   ],
   "source": [
    "var_a"
   ]
  },
  {
   "cell_type": "code",
   "execution_count": 19,
   "id": "ba9eb58b",
   "metadata": {},
   "outputs": [
    {
     "name": "stdout",
     "output_type": "stream",
     "text": [
      "Python\n",
      "nohtyP\n"
     ]
    }
   ],
   "source": [
    "#reverse\n",
    "print(var_a)\n",
    "print(var_a[::-1])"
   ]
  },
  {
   "cell_type": "code",
   "execution_count": 20,
   "id": "78f41b25",
   "metadata": {},
   "outputs": [
    {
     "data": {
      "text/plain": [
       "1"
      ]
     },
     "execution_count": 20,
     "metadata": {},
     "output_type": "execute_result"
    }
   ],
   "source": [
    "#find \n",
    "var_a.find('y')"
   ]
  },
  {
   "cell_type": "code",
   "execution_count": 21,
   "id": "33b2cc0e",
   "metadata": {},
   "outputs": [
    {
     "data": {
      "text/plain": [
       "'Python'"
      ]
     },
     "execution_count": 21,
     "metadata": {},
     "output_type": "execute_result"
    }
   ],
   "source": [
    "var_a"
   ]
  },
  {
   "cell_type": "code",
   "execution_count": 22,
   "id": "e76fdbc0",
   "metadata": {},
   "outputs": [
    {
     "data": {
      "text/plain": [
       "'PYTHON'"
      ]
     },
     "execution_count": 22,
     "metadata": {},
     "output_type": "execute_result"
    }
   ],
   "source": [
    "var_a.upper()"
   ]
  },
  {
   "cell_type": "code",
   "execution_count": 23,
   "id": "079fa813",
   "metadata": {},
   "outputs": [
    {
     "data": {
      "text/plain": [
       "'python'"
      ]
     },
     "execution_count": 23,
     "metadata": {},
     "output_type": "execute_result"
    }
   ],
   "source": [
    "var_a.lower()"
   ]
  },
  {
   "cell_type": "code",
   "execution_count": 24,
   "id": "62692a46",
   "metadata": {},
   "outputs": [
    {
     "data": {
      "text/plain": [
       "'Python'"
      ]
     },
     "execution_count": 24,
     "metadata": {},
     "output_type": "execute_result"
    }
   ],
   "source": [
    "var_a.capitalize()"
   ]
  },
  {
   "cell_type": "code",
   "execution_count": 25,
   "id": "b74ad7ec",
   "metadata": {},
   "outputs": [
    {
     "data": {
      "text/plain": [
       "9"
      ]
     },
     "execution_count": 25,
     "metadata": {},
     "output_type": "execute_result"
    }
   ],
   "source": [
    "var_2='Python   '\n",
    "len(var_2)"
   ]
  },
  {
   "cell_type": "code",
   "execution_count": 26,
   "id": "6f51d3ed",
   "metadata": {},
   "outputs": [
    {
     "name": "stdout",
     "output_type": "stream",
     "text": [
      "Python   \n",
      "6\n",
      "Python\n"
     ]
    }
   ],
   "source": [
    "print(var_2)\n",
    "var_3=var_2.strip()\n",
    "print(len(var_3))\n",
    "print(var_3)"
   ]
  },
  {
   "cell_type": "code",
   "execution_count": 27,
   "id": "2afb386e",
   "metadata": {},
   "outputs": [],
   "source": [
    "new='I love to code with python'"
   ]
  },
  {
   "cell_type": "code",
   "execution_count": 28,
   "id": "d2721029",
   "metadata": {},
   "outputs": [
    {
     "data": {
      "text/plain": [
       "'I love to code with python'"
      ]
     },
     "execution_count": 28,
     "metadata": {},
     "output_type": "execute_result"
    }
   ],
   "source": [
    "new"
   ]
  },
  {
   "cell_type": "code",
   "execution_count": 29,
   "id": "7e57f976",
   "metadata": {},
   "outputs": [
    {
     "data": {
      "text/plain": [
       "'I love to code with  python and R'"
      ]
     },
     "execution_count": 29,
     "metadata": {},
     "output_type": "execute_result"
    }
   ],
   "source": [
    "new_2=new.replace('python',' python and R')\n",
    "new_2"
   ]
  },
  {
   "cell_type": "code",
   "execution_count": 30,
   "id": "03ab0976",
   "metadata": {},
   "outputs": [
    {
     "data": {
      "text/plain": [
       "['I', 'love', 'to', 'code', 'with', '', 'python', 'and', 'R']"
      ]
     },
     "execution_count": 30,
     "metadata": {},
     "output_type": "execute_result"
    }
   ],
   "source": [
    "n=new_2.split(' ')\n",
    "n"
   ]
  },
  {
   "cell_type": "code",
   "execution_count": 31,
   "id": "98f35593",
   "metadata": {},
   "outputs": [
    {
     "data": {
      "text/plain": [
       "['I l', 've t', ' c', 'de with  pyth', 'n and R']"
      ]
     },
     "execution_count": 31,
     "metadata": {},
     "output_type": "execute_result"
    }
   ],
   "source": [
    "o=new_2.split('o')\n",
    "o"
   ]
  },
  {
   "cell_type": "code",
   "execution_count": null,
   "id": "000de995",
   "metadata": {},
   "outputs": [],
   "source": []
  }
 ],
 "metadata": {
  "kernelspec": {
   "display_name": "Python 3 (ipykernel)",
   "language": "python",
   "name": "python3"
  },
  "language_info": {
   "codemirror_mode": {
    "name": "ipython",
    "version": 3
   },
   "file_extension": ".py",
   "mimetype": "text/x-python",
   "name": "python",
   "nbconvert_exporter": "python",
   "pygments_lexer": "ipython3",
   "version": "3.11.4"
  }
 },
 "nbformat": 4,
 "nbformat_minor": 5
}
