{
 "cells": [
  {
   "cell_type": "markdown",
   "id": "515bbe1e",
   "metadata": {},
   "source": [
    "# Data Types\n",
    " - Numeric\n",
    "    - Integer\n",
    "    - float\n",
    " - Dictionary\n",
    " - Boolen\n",
    " - set\n",
    " - sequesnce Type\n",
    "    - Strings\n",
    "    - list\n",
    "    - Tuple"
   ]
  },
  {
   "cell_type": "markdown",
   "id": "4996d18c",
   "metadata": {},
   "source": [
    "# Numeric"
   ]
  },
  {
   "cell_type": "markdown",
   "id": "a7fd6582",
   "metadata": {},
   "source": [
    "Interger"
   ]
  },
  {
   "cell_type": "code",
   "execution_count": 2,
   "id": "43d01524",
   "metadata": {},
   "outputs": [],
   "source": [
    "j= 10 "
   ]
  },
  {
   "cell_type": "code",
   "execution_count": 3,
   "id": "fedb8150",
   "metadata": {},
   "outputs": [
    {
     "data": {
      "text/plain": [
       "int"
      ]
     },
     "execution_count": 3,
     "metadata": {},
     "output_type": "execute_result"
    }
   ],
   "source": [
    "type(j)"
   ]
  },
  {
   "cell_type": "code",
   "execution_count": 5,
   "id": "bcdee110",
   "metadata": {},
   "outputs": [
    {
     "data": {
      "text/plain": [
       "int"
      ]
     },
     "execution_count": 5,
     "metadata": {},
     "output_type": "execute_result"
    }
   ],
   "source": [
    "type(10)"
   ]
  },
  {
   "cell_type": "markdown",
   "id": "a4570da7",
   "metadata": {},
   "source": [
    "Float"
   ]
  },
  {
   "cell_type": "code",
   "execution_count": 6,
   "id": "f9e95c98",
   "metadata": {},
   "outputs": [
    {
     "data": {
      "text/plain": [
       "float"
      ]
     },
     "execution_count": 6,
     "metadata": {},
     "output_type": "execute_result"
    }
   ],
   "source": [
    "k=10.8\n",
    "type(k)"
   ]
  },
  {
   "cell_type": "markdown",
   "id": "950abbaf",
   "metadata": {},
   "source": [
    "# Dictionary"
   ]
  },
  {
   "cell_type": "code",
   "execution_count": 10,
   "id": "559ddcbe",
   "metadata": {},
   "outputs": [],
   "source": [
    "Dict={1:'Mango'}"
   ]
  },
  {
   "cell_type": "code",
   "execution_count": 11,
   "id": "54d0ee92",
   "metadata": {},
   "outputs": [
    {
     "data": {
      "text/plain": [
       "dict"
      ]
     },
     "execution_count": 11,
     "metadata": {},
     "output_type": "execute_result"
    }
   ],
   "source": [
    "type(Dict)"
   ]
  },
  {
   "cell_type": "markdown",
   "id": "fc6316dd",
   "metadata": {},
   "source": [
    "# Boolen"
   ]
  },
  {
   "cell_type": "code",
   "execution_count": 14,
   "id": "e7601ab1",
   "metadata": {},
   "outputs": [],
   "source": [
    "a=True\n",
    "b=False\n",
    "c='True'\n",
    "d='False'"
   ]
  },
  {
   "cell_type": "markdown",
   "id": "d2409d6d",
   "metadata": {},
   "source": [
    "# set"
   ]
  },
  {
   "cell_type": "code",
   "execution_count": 18,
   "id": "fe6fae1a",
   "metadata": {},
   "outputs": [],
   "source": [
    "st={1,'mango'}"
   ]
  },
  {
   "cell_type": "code",
   "execution_count": 19,
   "id": "d55f2c65",
   "metadata": {},
   "outputs": [
    {
     "data": {
      "text/plain": [
       "set"
      ]
     },
     "execution_count": 19,
     "metadata": {},
     "output_type": "execute_result"
    }
   ],
   "source": [
    "type(st)"
   ]
  },
  {
   "cell_type": "markdown",
   "id": "570ddc1f",
   "metadata": {},
   "source": [
    "# Strings"
   ]
  },
  {
   "cell_type": "code",
   "execution_count": 20,
   "id": "a6658ce4",
   "metadata": {},
   "outputs": [],
   "source": [
    "a='Hi, I am watching Code with Ranjit'"
   ]
  },
  {
   "cell_type": "code",
   "execution_count": 21,
   "id": "344f03e5",
   "metadata": {},
   "outputs": [
    {
     "data": {
      "text/plain": [
       "str"
      ]
     },
     "execution_count": 21,
     "metadata": {},
     "output_type": "execute_result"
    }
   ],
   "source": [
    "type(a)"
   ]
  },
  {
   "cell_type": "code",
   "execution_count": 22,
   "id": "a1a17941",
   "metadata": {},
   "outputs": [],
   "source": [
    "b=\"it's contains are amezing\""
   ]
  },
  {
   "cell_type": "code",
   "execution_count": 23,
   "id": "b1eb9aac",
   "metadata": {},
   "outputs": [
    {
     "data": {
      "text/plain": [
       "str"
      ]
     },
     "execution_count": 23,
     "metadata": {},
     "output_type": "execute_result"
    }
   ],
   "source": [
    "type(b)"
   ]
  },
  {
   "cell_type": "markdown",
   "id": "fed3bc96",
   "metadata": {},
   "source": [
    "# list"
   ]
  },
  {
   "cell_type": "code",
   "execution_count": 24,
   "id": "b2c0d49f",
   "metadata": {},
   "outputs": [],
   "source": [
    "l1=[20]"
   ]
  },
  {
   "cell_type": "code",
   "execution_count": 25,
   "id": "adc4b604",
   "metadata": {},
   "outputs": [
    {
     "data": {
      "text/plain": [
       "list"
      ]
     },
     "execution_count": 25,
     "metadata": {},
     "output_type": "execute_result"
    }
   ],
   "source": [
    "type(l1)"
   ]
  },
  {
   "cell_type": "markdown",
   "id": "85d2e243",
   "metadata": {},
   "source": [
    "# Tuple"
   ]
  },
  {
   "cell_type": "code",
   "execution_count": 26,
   "id": "56033bda",
   "metadata": {},
   "outputs": [],
   "source": [
    "t=('a','b','c')"
   ]
  },
  {
   "cell_type": "code",
   "execution_count": 27,
   "id": "825ecf4e",
   "metadata": {},
   "outputs": [
    {
     "data": {
      "text/plain": [
       "tuple"
      ]
     },
     "execution_count": 27,
     "metadata": {},
     "output_type": "execute_result"
    }
   ],
   "source": [
    "type(t)"
   ]
  },
  {
   "cell_type": "code",
   "execution_count": null,
   "id": "7725fda6",
   "metadata": {},
   "outputs": [],
   "source": []
  }
 ],
 "metadata": {
  "kernelspec": {
   "display_name": "Python 3 (ipykernel)",
   "language": "python",
   "name": "python3"
  },
  "language_info": {
   "codemirror_mode": {
    "name": "ipython",
    "version": 3
   },
   "file_extension": ".py",
   "mimetype": "text/x-python",
   "name": "python",
   "nbconvert_exporter": "python",
   "pygments_lexer": "ipython3",
   "version": "3.11.4"
  }
 },
 "nbformat": 4,
 "nbformat_minor": 5
}
